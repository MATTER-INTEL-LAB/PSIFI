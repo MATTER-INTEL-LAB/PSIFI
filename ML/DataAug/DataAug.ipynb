{
  "cells": [
    {
      "cell_type": "markdown",
      "metadata": {
        "id": "yzm7jOY8-RwP"
      },
      "source": [
        "# 0. randomly pick data for each label"
      ]
    },
    {
      "cell_type": "code",
      "execution_count": null,
      "metadata": {
        "id": "djHVciBY6uqS"
      },
      "outputs": [],
      "source": [
        "from google.colab import drive\n",
        "drive.mount('/content/gdrive')"
      ]
    },
    {
      "cell_type": "code",
      "execution_count": null,
      "metadata": {
        "id": "bzK6auRqbqmX"
      },
      "outputs": [],
      "source": [
        "import os\n",
        "import pandas as pd\n",
        "import matplotlib.pyplot as plt\n",
        "import random\n",
        "\n",
        "f_list = ['A', 'B', 'C', 'HELLO', 'ILOVEU']\n",
        "\n",
        "for i in f_list:\n",
        "    path = '/content/gdrive/MyDrive/Vocal_Datasets/' + i + '/'\n",
        "    file_list = os.listdir(path)\n",
        "    file_list_py = [file for file in file_list if file.endswith('xlsx')] #5 data\n",
        "\n",
        "    #randomly pick\n",
        "    rand_j = random.choice(file_list_py)\n",
        "    d1 = pd.read_excel(path + rand_j, header=None, index_col=None)\n",
        "    d1 = d1.iloc[0:35000,:]\n",
        "\n",
        "    plt.figure()\n",
        "    plt.plot(d1)\n",
        "    plt.title(\"%s\" % i)\n",
        "    plt.axis([0,35000,-10,10])"
      ]
    },
    {
      "cell_type": "markdown",
      "metadata": {
        "id": "uyrKdh7ca1AX"
      },
      "source": [
        "#0.1 Data comparison between original data and **JITTERRED** data"
      ]
    },
    {
      "cell_type": "code",
      "execution_count": null,
      "metadata": {
        "id": "8cuwwMZ8D2SF"
      },
      "outputs": [],
      "source": [
        "####################### random data with augmented ############################\n",
        "import os\n",
        "import pandas as pd\n",
        "import matplotlib.pyplot as plt\n",
        "import random\n",
        "import numpy as np\n",
        "\n",
        "sigma = 0.005\n",
        "\n",
        "def DA_Jitter(X, sigma = 0.005):\n",
        "    myNoise = np.random.randint(-100,100, size=(35000,1))*np.array(sigma)\n",
        "\n",
        "    return X+myNoise\n",
        "\n",
        "f_list = ['A', 'B', 'C', 'HELLO', 'ILOVEU']\n",
        "\n",
        "for i in f_list:\n",
        "    path = '/content/gdrive/MyDrive/Vocal_Datasets/' + i + '/'\n",
        "    file_list = os.listdir(path)\n",
        "    file_list_py = [file for file in file_list if file.endswith('xlsx')] #5 data\n",
        "    #randomly pick\n",
        "    rand_j = random.choice(file_list_py)\n",
        "    d1 = pd.read_excel(path + rand_j, header=None, index_col=None)\n",
        "    d1 = d1.iloc[0:35000,:]\n",
        "\n",
        "    fig = plt.figure(figsize=(15,4))\n",
        "    ax = fig.add_subplot(2,4,1)\n",
        "    ax.set_title(i)\n",
        "    ax.plot(d1)\n",
        "    ax = fig.add_subplot(2,4,2)\n",
        "    ax.set_title(i + \" with Jittering\")\n",
        "    ax.plot(DA_Jitter(d1, sigma))\n",
        "    ax.set_xlim([0,35000])"
      ]
    },
    {
      "cell_type": "markdown",
      "metadata": {
        "id": "1BUxlGw7fVW4"
      },
      "source": [
        "#0.2 Data comparison between original data and **SCALING data**\n"
      ]
    },
    {
      "cell_type": "code",
      "execution_count": null,
      "metadata": {
        "id": "GmSBKYw_Ztbu"
      },
      "outputs": [],
      "source": [
        "import os\n",
        "import pandas as pd\n",
        "import matplotlib.pyplot as plt\n",
        "import random\n",
        "import numpy as np\n",
        "sigma = 0.1\n",
        "def DA_Scaling(X, sigma=0.1):\n",
        "    scalingFactor = np.random.normal(loc=1.0, scale=sigma, size=(1,X.shape[1]))\n",
        "    #print(scalingFactor)\n",
        "    myNoise = np.matmul(np.ones((X.shape[0],1)), scalingFactor)\n",
        "    return X*myNoise\n",
        "\n",
        "f_list = ['Happiness', 'Surprise', 'Disgust', 'Anger', 'Sadness']\n",
        "\n",
        "for i in f_list:\n",
        "    path = '/content/gdrive/MyDrive/sensorData/' + i + '/'\n",
        "    file_list = os.listdir(path)\n",
        "    file_list_py = [file for file in file_list if file.endswith('xlsx')] #5 data\n",
        "    #randomly pick\n",
        "    rand_j = random.choice(file_list_py)\n",
        "    d1 = pd.read_excel(path + rand_j, header=None, index_col=None)\n",
        "    d1 = d1.iloc[0:64,:]\n",
        "\n",
        "    fig = plt.figure(figsize=(15,4))\n",
        "    ax = fig.add_subplot(2,4,1)\n",
        "    ax.set_title(i)\n",
        "    ax.plot(d1)\n",
        "    ax = fig.add_subplot(2,4,2)\n",
        "    ax.set_title(i + \" with Scaling\")\n",
        "    ax.plot(DA_Scaling(d1, sigma))\n",
        "    ax.set_xlim([0,64])"
      ]
    },
    {
      "cell_type": "code",
      "execution_count": null,
      "metadata": {
        "id": "8OZwQziZsAgk"
      },
      "outputs": [],
      "source": [
        "np.random.normal(loc=1.0, scale=sigma, size=(1,d1.shape[1]))"
      ]
    },
    {
      "cell_type": "code",
      "execution_count": null,
      "metadata": {
        "id": "LacctSXwHzTd"
      },
      "outputs": [],
      "source": [
        "d1 = d1.iloc[0:64,:]\n",
        "print(d1)"
      ]
    },
    {
      "cell_type": "markdown",
      "metadata": {
        "id": "fa0fnxJssD0q"
      },
      "source": [
        "#0.3 Data comparison between original data and **TIME WARPING data**"
      ]
    },
    {
      "cell_type": "code",
      "execution_count": null,
      "metadata": {
        "id": "tA_Am0W0sL-h"
      },
      "outputs": [],
      "source": [
        "import os\n",
        "import pandas as pd\n",
        "import matplotlib.pyplot as plt\n",
        "import random\n",
        "import numpy as np\n",
        "from scipy.interpolate import CubicSpline\n",
        "\n",
        "def GenerateRandomCurves(X, sigma = 0.2, knot = 4):\n",
        "    xx = (np.ones((X.shape[1],1))*(np.arange(0,X.shape[0], (X.shape[0]-1)/(knot+1)))).transpose()\n",
        "    yy = np.random.normal(loc = 1.0, scale = sigma, size = (knot+2, X.shape[1]))\n",
        "    x_range = np.arange(X.shape[0])\n",
        "    print(x_range)\n",
        "    cs_1 = CubicSpline(xx[:,0],yy[:,0])\n",
        "    cs_2 = CubicSpline(xx[:,1],yy[:,1])\n",
        "    cs_3 = CubicSpline(xx[:,2],yy[:,2])\n",
        "    cs_4 = CubicSpline(xx[:,3],yy[:,3])\n",
        "    cs_5 = CubicSpline(xx[:,4],yy[:,4])\n",
        "    return np.array([cs_1(x_range),cs_2(x_range), cs_3(x_range),cs_4(x_range),cs_5(x_range)]).transpose()\n",
        "\n",
        "def DistortTimesteps(X, sigma=0.2):\n",
        "    tt = GenerateRandomCurves(X, sigma)\n",
        "    tt_cum = np.cumsum(tt, axis=0)\n",
        "    t_scale = [(X.shape[0]-1)/tt_cum[-1,0],(X.shape[0]-1)/tt_cum[-1,1],(X.shape[0]-1)/tt_cum[-1,2],\n",
        "               (X.shape[0]-1)/tt_cum[-1,3],(X.shape[0]-1)/tt_cum[-1,4]]\n",
        "    tt_cum[:,0] = tt_cum[:,0]*t_scale[0]\n",
        "    tt_cum[:,1] = tt_cum[:,1]*t_scale[1]\n",
        "    tt_cum[:,2] = tt_cum[:,2]*t_scale[2]\n",
        "    tt_cum[:,3] = tt_cum[:,3]*t_scale[3]\n",
        "    tt_cum[:,4] = tt_cum[:,4]*t_scale[4]\n",
        "    return tt_cum\n",
        "\n",
        "def DA_TimeWarp(X, sigma=0.2):\n",
        "    tt_new = DistortTimesteps(X, sigma)\n",
        "    #print(\"tt_new: \",tt_new[:,0],\"\\nX[:,0]\",d1[:,0])\n",
        "    X_new = np.zeros(X.shape)\n",
        "    #print(\"xnew[:,0] =\",X_new[:,0])\n",
        "    x_range = np.arange(X.shape[0])\n",
        "    X_new[:,0] = np.interp(x_range, tt_new[:,0], X.iloc[:,0])\n",
        "    X_new[:,1] = np.interp(x_range, tt_new[:,1], X.iloc[:,1])\n",
        "    X_new[:,2] = np.interp(x_range, tt_new[:,2], X.iloc[:,2])\n",
        "    X_new[:,3] = np.interp(x_range, tt_new[:,3], X.iloc[:,3])\n",
        "    X_new[:,4] = np.interp(x_range, tt_new[:,4], X.iloc[:,4])\n",
        "    #print(X_new)\n",
        "    return X_new\n",
        "\n",
        "f_list = ['Happiness', 'Surprise', 'Disgust', 'Anger', 'Sadness']\n",
        "\n",
        "for i in f_list:\n",
        "    path = '/content/gdrive/MyDrive/sensorData/' + i + '/'\n",
        "    file_list = os.listdir(path)\n",
        "    file_list_py = [file for file in file_list if file.endswith('xlsx')] #5 data\n",
        "    #randomly pick\n",
        "    rand_j = random.choice(file_list_py)\n",
        "    d1 = pd.read_excel(path + rand_j, header=None, index_col=None)\n",
        "    d1 = d1.iloc[0:64,:]\n",
        "\n",
        "    fig = plt.figure(figsize=(15,4))\n",
        "    ax = fig.add_subplot(2,4,1)\n",
        "    ax.set_title(i)\n",
        "    ax.plot(d1)\n",
        "    ax = fig.add_subplot(2,4,2)\n",
        "    ax.set_title(i + \" with Time Warping\")\n",
        "    ax.plot(DA_TimeWarp(d1))\n",
        "    ax.set_xlim([0,64])"
      ]
    },
    {
      "cell_type": "markdown",
      "metadata": {
        "id": "QlO0UgrDBw3j"
      },
      "source": [
        "#0.4 Data comparison between original data and **Magnitude warping**\n"
      ]
    },
    {
      "cell_type": "code",
      "execution_count": null,
      "metadata": {
        "id": "gulT5K9Qvx17"
      },
      "outputs": [],
      "source": [
        "import os\n",
        "import pandas as pd\n",
        "import matplotlib.pyplot as plt\n",
        "import random\n",
        "import numpy as np\n",
        "\n",
        "def GenerateRandomCurves(X, sigma = 0.2, knot = 4):\n",
        "    xx = (np.ones((X.shape[1],1))*(np.arange(0,X.shape[0], (X.shape[0]-1)/(knot+1)))).transpose()\n",
        "    yy = np.random.normal(loc = 1.0, scale = sigma, size = (knot+2, X.shape[1]))\n",
        "    x_range = np.arange(X.shape[0])\n",
        "    cs_1 = CubicSpline(xx[:,0],yy[:,0])\n",
        "    cs_2 = CubicSpline(xx[:,1],yy[:,1])\n",
        "    cs_3 = CubicSpline(xx[:,2],yy[:,2])\n",
        "    cs_4 = CubicSpline(xx[:,3],yy[:,3])\n",
        "    cs_5 = CubicSpline(xx[:,4],yy[:,4])\n",
        "    return np.array([cs_1(x_range),cs_2(x_range), cs_3(x_range),cs_4(x_range),cs_5(x_range)]).transpose()\n",
        "\n",
        "def DA_MagWarp(X, sigma = 0.2):\n",
        "    return X * GenerateRandomCurves(X, sigma)\n",
        "\n",
        "f_list = ['Happiness', 'Surprise', 'Disgust', 'Anger', 'Sadness']\n",
        "\n",
        "for i in f_list:\n",
        "    path = '/content/drive/MyDrive/sensorData/' + i + '/'\n",
        "    file_list = os.listdir(path)\n",
        "    file_list_py = [file for file in file_list if file.endswith('xlsx')] #5 data\n",
        "    #randomly pick\n",
        "    rand_j = random.choice(file_list_py)\n",
        "    d1 = pd.read_excel(path + rand_j, header=None, index_col=None)\n",
        "    d1 = d1.iloc[0:64,:]\n",
        "\n",
        "    fig = plt.figure(figsize=(15,4))\n",
        "    ax = fig.add_subplot(2,4,1)\n",
        "    ax.set_title(i)\n",
        "    ax.plot(d1)\n",
        "    ax = fig.add_subplot(2,4,2)\n",
        "    ax.set_title(i + \" with MagWarp\")\n",
        "    ax.plot(DA_MagWarp(d1))\n",
        "    ax.set_xlim([0,64])"
      ]
    },
    {
      "cell_type": "markdown",
      "metadata": {
        "id": "Olne6BzaSRy9"
      },
      "source": [
        "# Method 1. Transfering Augmented data to Excel"
      ]
    },
    {
      "cell_type": "code",
      "execution_count": null,
      "metadata": {
        "id": "q0sMIW3Kt73K"
      },
      "outputs": [],
      "source": [
        "!pip install xlsxwriter"
      ]
    },
    {
      "cell_type": "markdown",
      "metadata": {
        "id": "6fbGwVevafNG"
      },
      "source": [
        "# Method 1-1. Transfering augmented data to Excel"
      ]
    },
    {
      "cell_type": "code",
      "execution_count": null,
      "metadata": {
        "id": "i9DDO9KV5og3"
      },
      "outputs": [],
      "source": [
        "###21~132: Jittering\n",
        "import os\n",
        "import pandas as pd\n",
        "import matplotlib.pyplot as plt\n",
        "import numpy as np\n",
        "\n",
        "def DA_Jitter(X, sigma = 1E-4):\n",
        "    myNoise = np.random.randint(-100,100, size=(64,5))*np.array(sigma)\n",
        "    return X+myNoise\n",
        "\n",
        "f_list = ['Happiness', 'Surprise', 'Disgust', 'Anger', 'Sadness']\n",
        "\n",
        "for i in f_list:\n",
        "    counter = 0\n",
        "    dir = '/content/drive/MyDrive/sensorData_a/' + i + '/'\n",
        "    file_list = os.listdir(dir)\n",
        "    file_list_py = [file for file in file_list if file.endswith('xlsx')]\n",
        "\n",
        "    for j in file_list_py:\n",
        "        if int(j[0:-5]) <= 14:\n",
        "            d1 = pd.read_excel(dir + j, header=None, index_col=None)\n",
        "\n",
        "            for ii in range(8):\n",
        "                alpha = counter * 8\n",
        "                train_df = pd.DataFrame(DA_Jitter(d1, sigma))\n",
        "                writer = pd.ExcelWriter(dir + '%s.xlsx' % str(ii+21+alpha))\n",
        "                train_df.to_excel(writer, index = False, header=False)\n",
        "                writer.save()\n",
        "            counter += 1\n",
        "        else:\n",
        "            pass"
      ]
    },
    {
      "cell_type": "code",
      "execution_count": null,
      "metadata": {
        "id": "_ECkLiZbQWmf"
      },
      "outputs": [],
      "source": [
        "###133~244: Scaling\n",
        "import os\n",
        "import pandas as pd\n",
        "import matplotlib.pyplot as plt\n",
        "import numpy as np\n",
        "\n",
        "sigma = 0.1\n",
        "def DA_Scaling(X, sigma=0.1):\n",
        "    scalingFactor = np.random.normal(loc=1.0, scale=sigma, size=(1,X.shape[1]))\n",
        "    myNoise = np.matmul(np.ones((X.shape[0],1)), scalingFactor)\n",
        "    return X*myNoise\n",
        "\n",
        "f_list = ['Happiness', 'Surprise', 'Disgust', 'Anger', 'Sadness']\n",
        "\n",
        "for i in f_list:\n",
        "    counter = 0\n",
        "    dir = '/content/drive/MyDrive/sensorData_a/' + i + '/'\n",
        "    file_list = os.listdir(dir)\n",
        "    file_list_py = [file for file in file_list if file.endswith('xlsx')]\n",
        "\n",
        "    for j in file_list_py:\n",
        "        if int(j[0:-5]) <= 14:\n",
        "            d1 = pd.read_excel(dir + j, header=None, index_col=None)\n",
        "            d1 = d1.iloc[0:64,:]\n",
        "\n",
        "            for ii in range(8):\n",
        "                alpha = counter * 8\n",
        "                train_df = pd.DataFrame(DA_Scaling(d1, sigma))\n",
        "                writer = pd.ExcelWriter(dir + '%s.xlsx' % str(ii+133+alpha))\n",
        "                train_df.to_excel(writer, index = False, header=False)\n",
        "                writer.save()\n",
        "            counter += 1\n",
        "        else:\n",
        "            pass"
      ]
    },
    {
      "cell_type": "code",
      "execution_count": null,
      "metadata": {
        "id": "43OZ5F0w9v6y"
      },
      "outputs": [],
      "source": [
        "###245~356: Time warping\n",
        "import os\n",
        "import pandas as pd\n",
        "import matplotlib.pyplot as plt\n",
        "import numpy as np\n",
        "\n",
        "def GenerateRandomCurves(X, sigma = 0.2, knot = 4):\n",
        "    xx = (np.ones((X.shape[1],1))*(np.arange(0,X.shape[0], (X.shape[0]-1)/(knot+1)))).transpose()\n",
        "    yy = np.random.normal(loc = 1.0, scale = sigma, size = (knot+2, X.shape[1]))\n",
        "    x_range = np.arange(X.shape[0])\n",
        "    cs_1 = CubicSpline(xx[:,0],yy[:,0])\n",
        "    cs_2 = CubicSpline(xx[:,1],yy[:,1])\n",
        "    cs_3 = CubicSpline(xx[:,2],yy[:,2])\n",
        "    cs_4 = CubicSpline(xx[:,3],yy[:,3])\n",
        "    cs_5 = CubicSpline(xx[:,4],yy[:,4])\n",
        "    return np.array([cs_1(x_range),cs_2(x_range), cs_3(x_range),cs_4(x_range),cs_5(x_range)]).transpose()\n",
        "\n",
        "def DistortTimesteps(X, sigma=0.2):\n",
        "    tt = GenerateRandomCurves(X, sigma)\n",
        "    tt_cum = np.cumsum(tt, axis=0)\n",
        "    t_scale = [(X.shape[0]-1)/tt_cum[-1,0],(X.shape[0]-1)/tt_cum[-1,1],(X.shape[0]-1)/tt_cum[-1,2],\n",
        "               (X.shape[0]-1)/tt_cum[-1,3],(X.shape[0]-1)/tt_cum[-1,4]]\n",
        "    tt_cum[:,0] = tt_cum[:,0]*t_scale[0]\n",
        "    tt_cum[:,1] = tt_cum[:,1]*t_scale[1]\n",
        "    tt_cum[:,2] = tt_cum[:,2]*t_scale[2]\n",
        "    tt_cum[:,3] = tt_cum[:,3]*t_scale[3]\n",
        "    tt_cum[:,4] = tt_cum[:,4]*t_scale[4]\n",
        "    return tt_cum\n",
        "\n",
        "def DA_TimeWarp(X, sigma=0.2):\n",
        "    tt_new = DistortTimesteps(X, sigma)\n",
        "    X_new = np.zeros(X.shape)\n",
        "    x_range = np.arange(X.shape[0])\n",
        "    X_new[:,0] = np.interp(x_range, tt_new[:,0], X.iloc[:,0])\n",
        "    X_new[:,1] = np.interp(x_range, tt_new[:,1], X.iloc[:,1])\n",
        "    X_new[:,2] = np.interp(x_range, tt_new[:,2], X.iloc[:,2])\n",
        "    X_new[:,3] = np.interp(x_range, tt_new[:,3], X.iloc[:,3])\n",
        "    X_new[:,4] = np.interp(x_range, tt_new[:,4], X.iloc[:,4])\n",
        "    return X_new\n",
        "\n",
        "f_list = ['Happiness', 'Surprise', 'Disgust', 'Anger', 'Sadness']\n",
        "\n",
        "for i in f_list:\n",
        "    counter = 0\n",
        "    dir = '/content/drive/MyDrive/sensorData_a/' + i + '/'\n",
        "    file_list = os.listdir(dir)\n",
        "    file_list_py = [file for file in file_list if file.endswith('xlsx')]\n",
        "\n",
        "    for j in file_list_py:\n",
        "        if int(j[0:-5]) <= 14:\n",
        "            d1 = pd.read_excel(dir + j, header=None, index_col=None)\n",
        "            d1 = d1.iloc[0:64,:]\n",
        "\n",
        "            for ii in range(8):\n",
        "                alpha = counter * 8\n",
        "                train_df = pd.DataFrame(DA_TimeWarp(d1))\n",
        "                writer = pd.ExcelWriter(dir + '%s.xlsx' % str(ii+245+alpha))#수정\n",
        "                train_df.to_excel(writer, index = False, header=False)\n",
        "                writer.save()\n",
        "            counter += 1\n",
        "        else:\n",
        "            pass"
      ]
    },
    {
      "cell_type": "code",
      "execution_count": null,
      "metadata": {
        "id": "qDVuIK8xLHKw"
      },
      "outputs": [],
      "source": [
        "###357~468: Mag warping\n",
        "import os\n",
        "import pandas as pd\n",
        "import matplotlib.pyplot as plt\n",
        "import random\n",
        "import numpy as np\n",
        "\n",
        "def GenerateRandomCurves(X, sigma = 0.2, knot = 4):\n",
        "    xx = (np.ones((X.shape[1],1))*(np.arange(0,X.shape[0], (X.shape[0]-1)/(knot+1)))).transpose()\n",
        "    yy = np.random.normal(loc = 1.0, scale = sigma, size = (knot+2, X.shape[1]))\n",
        "    x_range = np.arange(X.shape[0])\n",
        "    cs_1 = CubicSpline(xx[:,0],yy[:,0])\n",
        "    cs_2 = CubicSpline(xx[:,1],yy[:,1])\n",
        "    cs_3 = CubicSpline(xx[:,2],yy[:,2])\n",
        "    cs_4 = CubicSpline(xx[:,3],yy[:,3])\n",
        "    cs_5 = CubicSpline(xx[:,4],yy[:,4])\n",
        "    return np.array([cs_1(x_range),cs_2(x_range), cs_3(x_range),cs_4(x_range),cs_5(x_range)]).transpose()\n",
        "\n",
        "def DA_MagWarp(X, sigma = 0.2):\n",
        "    return X * GenerateRandomCurves(X, sigma)\n",
        "\n",
        "f_list = ['Happiness', 'Surprise', 'Disgust', 'Anger', 'Sadness']\n",
        "\n",
        "for i in f_list:\n",
        "    counter = 0\n",
        "    dir = '/content/drive/MyDrive/sensorData_a/' + i + '/'\n",
        "    file_list = os.listdir(dir)\n",
        "    file_list_py = [file for file in file_list if file.endswith('xlsx')]\n",
        "\n",
        "    for j in file_list_py:\n",
        "        if int(j[0:-5]) <= 14:\n",
        "            d1 = pd.read_excel(dir + j, header=None, index_col=None)\n",
        "            d1 = d1.iloc[0:64,:]\n",
        "\n",
        "            for ii in range(8):\n",
        "                alpha = counter * 8\n",
        "                train_df = pd.DataFrame(DA_MagWarp(d1))\n",
        "                writer = pd.ExcelWriter(dir + '%s.xlsx' % str(ii+357+alpha))#수정\n",
        "                train_df.to_excel(writer, index = False, header=False)\n",
        "                writer.save()\n",
        "            counter += 1\n",
        "        else:\n",
        "            pass"
      ]
    }
  ],
  "metadata": {
    "colab": {
      "private_outputs": true,
      "provenance": []
    },
    "kernelspec": {
      "display_name": "Python 3",
      "name": "python3"
    },
    "language_info": {
      "name": "python"
    }
  },
  "nbformat": 4,
  "nbformat_minor": 0
}
