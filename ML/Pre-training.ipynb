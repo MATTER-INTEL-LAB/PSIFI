{
  "cells": [
    {
      "attachments": {},
      "cell_type": "markdown",
      "metadata": {
        "id": "shQo223S1MZc"
      },
      "source": [
        "# Mount Drive"
      ]
    },
    {
      "cell_type": "code",
      "execution_count": null,
      "metadata": {
        "colab": {
          "base_uri": "https://localhost:8080/"
        },
        "id": "cH6cKHqVtSNq",
        "outputId": "f9200c1a-021d-4efb-ee19-8d66e959a593"
      },
      "outputs": [
        {
          "name": "stdout",
          "output_type": "stream",
          "text": [
            "Mounted at /content/gdrive\n"
          ]
        }
      ],
      "source": [
        "from google.colab import drive\n",
        "drive.mount('/content/gdrive')"
      ]
    },
    {
      "cell_type": "markdown",
      "metadata": {
        "id": "FJGxGi8UqO2o"
      },
      "source": [
        "# Facial sensor dataset"
      ]
    },
    {
      "cell_type": "code",
      "execution_count": null,
      "metadata": {
        "id": "k5LrmLqcqg5U"
      },
      "outputs": [],
      "source": [
        "####################### raw data ################################\n",
        "import torch\n",
        "import torch.nn.functional as F\n",
        "import os\n",
        "import pandas as pd\n",
        "\n",
        "# load file\n",
        "f_list_Facial = ['Happiness', 'Surprise', 'Disgust', 'Anger', 'Sadness']\n",
        "\n",
        "df1_f = pd.DataFrame() # x_trainset rawdata\n",
        "df2_f = pd.DataFrame() # x_testset rawdata\n",
        "df3_f = [] # y_trainset rawdata\n",
        "df4_f = [] # y_testset rawdata\n",
        "\n",
        "for i in f_list_Facial:\n",
        "    path = '/content/gdrive/MyDrive/sensorData_a/' + i + '/'\n",
        "    file_list = os.listdir(path)\n",
        "    file_list_py = [file for file in file_list if file.endswith('xlsx')]\n",
        "\n",
        "    for j in file_list_py:\n",
        "#######################################ORIGINAL################################################\n",
        "        if int(j[0:-5]) <= 14:\n",
        "            d1_f = pd.read_excel(path + j, header=None, index_col=None)\n",
        "            d1_f = pd.DataFrame(data=d1_f).transpose()\n",
        "            df1_f = pd.concat([df1_f,d1_f])\n",
        "            df3_f.append(f_list_Facial.index(i))\n",
        "        elif 14 < int(j[0:-5]) <= 20:\n",
        "            d2_f = pd.read_excel(path + j, header=None, index_col=None)\n",
        "            d2_f = pd.DataFrame(data=d2_f).transpose()\n",
        "            df2_f = pd.concat([df2_f,d2_f])\n",
        "            df4_f.append(f_list_Facial.index(i))\n",
        "        else:\n",
        "            pass\n",
        "#######################################JITTERING###############################################\n",
        "        # if int(j[0:-5]) <= 14 or 20 < int(j[0:-5]) <= 132: #(1~14 && 21~132 Jittering)\n",
        "        #     d1_f = pd.read_excel(path + j, header=None, index_col=None)\n",
        "        #     d1_f = pd.DataFrame(data=d1_f).transpose()\n",
        "        #     df1_f = pd.concat([df1_f,d1_f])\n",
        "        #     df3_f.append(f_list_Facial.index(i))\n",
        "        # if 16 < int(j[0:-5]) <= 20:\n",
        "        #     d2_f = pd.read_excel(path + j, header=None, index_col=None)\n",
        "        #     d2_f = pd.DataFrame(data=d2_f).transpose()\n",
        "        #     df2_f = pd.concat([df2_f,d2_f])\n",
        "        #     df4_f.append(f_list_Facial.index(i))\n",
        "        # else:\n",
        "        #     pass\n",
        "#######################################SCALING###############################################\n",
        "        # if int(j[0:-5]) <= 14 or 132 < int(j[0:-5]) <= 244: #(1~14 && 133~244 Scaling)\n",
        "        #     d1_f = pd.read_excel(path + j, header=None, index_col=None)\n",
        "        #     d1_f = pd.DataFrame(data=d1_f).transpose()\n",
        "        #     df1_f = pd.concat([df1_f,d1_f])\n",
        "        #     df3_f.append(f_list_Facial.index(i))\n",
        "        # elif 14 < int(j[0:-5]) <= 20:\n",
        "        #     d2_f = pd.read_excel(path + j, header=None, index_col=None)\n",
        "        #     d2_f = pd.DataFrame(data=d2_f).transpose()\n",
        "        #     df2_f = pd.concat([df2_f,d2_f])\n",
        "        #     df4_f.append(f_list_Facial.index(i))\n",
        "        # else:\n",
        "        #     pass\n",
        "#######################################TWARPING###############################################\n",
        "        # if int(j[0:-5]) <= 14 or 244 < int(j[0:-5]) <= 356: #(1~14 && 245~356 Twarping)\n",
        "        #     d1_f = pd.read_excel(path + j, header=None, index_col=None)\n",
        "        #     d1_f = pd.DataFrame(data=d1_f).transpose()\n",
        "        #     df1_f = pd.concat([df1_f,d1_f])\n",
        "        #     df3_f.append(f_list_Facial.index(i))\n",
        "        # elif 14 < int(j[0:-5]) <= 20:\n",
        "        #     d2_f = pd.read_excel(path + j, header=None, index_col=None)\n",
        "        #     d2_f = pd.DataFrame(data=d2_f).transpose()\n",
        "        #     df2_f = pd.concat([df2_f,d2_f])\n",
        "        #     df4_f.append(f_list_Facial.index(i))\n",
        "        # else:\n",
        "        #     pass\n",
        "#######################################MWarping###############################################\n",
        "        # if int(j[0:-5]) <= 14 or 356 < int(j[0:-5]) <= 468: #(1~14 && 357~468 Mwarping)\n",
        "        #     d1_f = pd.read_excel(path + j, header=None, index_col=None)\n",
        "        #     d1_f = pd.DataFrame(data=d1_f).transpose()\n",
        "        #     df1_f = pd.concat([df1_f,d1_f])\n",
        "        #     df3_f.append(f_list_Facial.index(i))\n",
        "        # elif 14 < int(j[0:-5]) <= 20:\n",
        "        #     d2_f = pd.read_excel(path + j, header=None, index_col=None)\n",
        "        #     d2_f = pd.DataFrame(data=d2_f).transpose()\n",
        "        #     df2_f = pd.concat([df2_f,d2_f])\n",
        "        #     df4_f.append(f_list_Facial.index(i))\n",
        "        # else:\n",
        "        #     pass\n",
        "\n",
        "    df1_f = df1_f.reset_index(drop = True)\n",
        "    df1_f = df1_f.iloc[:,0:64]\n",
        "    df2_f = df2_f.reset_index(drop = True)\n",
        "    df2_f = df2_f.iloc[:,0:64]\n",
        "\n",
        "# convert to tensor\n",
        "\n",
        "df1_np = pd.DataFrame.to_numpy(df1_f)\n",
        "df2_np = pd.DataFrame.to_numpy(df2_f)\n",
        "x_train_f = torch.FloatTensor(df1_np).to(device)\n",
        "x_test_f = torch.FloatTensor(df2_np).to(device)\n",
        "y_train_f = torch.LongTensor(df3_f).to(device)\n",
        "y_test_f = torch.LongTensor(df4_f).to(device)\n",
        "\n",
        "# expand dimension of the data\n",
        "\n",
        "x_train_f = x_train_f.unsqueeze(0).to(device)\n",
        "x_train_f = x_train_f.reshape(630,5,64).to(device)\n",
        "x_test_f = x_test_f.unsqueeze(0).to(device)\n",
        "x_test_f = x_test_f.reshape(20,5,64).to(device)"
      ]
    },
    {
      "cell_type": "code",
      "execution_count": null,
      "metadata": {
        "id": "mSNUhmGUrZB2"
      },
      "outputs": [],
      "source": [
        "import torch\n",
        "import torch.nn.functional as F\n",
        "import os\n",
        "import pandas as pd\n",
        "import numpy as np\n",
        "from torch.utils.data import Dataset\n",
        "from torch.utils.data import DataLoader\n",
        "\n",
        "\n",
        "# Custom_Dataset\n",
        "\n",
        "class CustomDataset_train(Dataset):\n",
        "    # preprocessing of the datasets\n",
        "    def __init__(self):\n",
        "        self.x_data = x_train_f\n",
        "        self.y_data = y_train_f\n",
        "\n",
        "    # length of the dataset, # of the dataset\n",
        "    def __len__(self):\n",
        "        return len(self.x_data)\n",
        "\n",
        "    # get one data in the dataset\n",
        "    def __getitem__(self, idx):\n",
        "        x = self.x_data[idx]\n",
        "        y = self.y_data[idx]\n",
        "        return x, y\n",
        "\n",
        "class CustomDataset_test(Dataset):\n",
        "    # preprocessing of dataset\n",
        "    def __init__(self): # x -> 내가 필요한것들\n",
        "        self.x_data = x_test_f\n",
        "        self.y_data = y_test_f\n",
        "\n",
        "    # length of the dataset, # of the dataset\n",
        "    def __len__(self):\n",
        "        return len(self.x_data)\n",
        "\n",
        "    # get one data in the dataset\n",
        "    def __getitem__(self, idx):\n",
        "        x = self.x_data[idx]\n",
        "        y = self.y_data[idx]\n",
        "        return x, y\n",
        "\n",
        "train_dataset_f = CustomDataset_train()\n",
        "test_dataset_f = CustomDataset_test()\n",
        "train_dataloader_f = DataLoader(train_dataset_f, batch_size=1, shuffle=True)\n",
        "test_dataloader_f = DataLoader(test_dataset_f, batch_size=1, shuffle=False)"
      ]
    },
    {
      "attachments": {},
      "cell_type": "markdown",
      "metadata": {
        "id": "44-_hqLh1TgW"
      },
      "source": [
        "# Define Band-Block Filter"
      ]
    },
    {
      "cell_type": "code",
      "execution_count": null,
      "metadata": {
        "id": "AVuXTLSMWgel"
      },
      "outputs": [],
      "source": [
        "import scipy\n",
        "from scipy import signal\n",
        "\n",
        "def butter_bandstop_filter(data, lowcut, highcut, fs, order):\n",
        "    nyq = 0.5 * fs\n",
        "    low = lowcut / nyq\n",
        "    high = highcut / nyq\n",
        "    b, a = scipy.signal.butter(order, [low, high], btype='bandstop')\n",
        "    y = signal.lfilter(b, a, data)\n",
        "    return y"
      ]
    },
    {
      "attachments": {},
      "cell_type": "markdown",
      "metadata": {
        "id": "VXNb6vP_1bj_"
      },
      "source": [
        "# Vocal raw data pre-processing"
      ]
    },
    {
      "cell_type": "code",
      "execution_count": null,
      "metadata": {
        "id": "GpjNmiBUxQ8b"
      },
      "outputs": [],
      "source": [
        "import torch\n",
        "import torch.nn.functional as F\n",
        "import os\n",
        "import pandas as pd\n",
        "import numpy as np\n",
        "from scipy.fft import fftshift\n",
        "from scipy.signal import spectrogram\n",
        "import matplotlib.pyplot as plt\n",
        "%matplotlib inline\n",
        "\n",
        "# 파일 불러오기\n",
        "f_list_Vocal = ['A', 'B', 'C', 'HELLO', 'ILOVEU']\n",
        "\n",
        "for i in f_list_Vocal:\n",
        "    path = '/content/gdrive/MyDrive/Vocal_Datasets/' + i + '/'\n",
        "    file_list = os.listdir(path)\n",
        "    file_list_py = [file for file in file_list if file.endswith('xlsx')]\n",
        "\n",
        "    for j in file_list_py:\n",
        "        if int(j[0:-5]) <= 14:\n",
        "            d1 = pd.read_excel(path + j, header=None, index_col=None)\n",
        "            d1 = pd.DataFrame(data=d1).transpose()\n",
        "            d1 = d1.reset_index(drop = True)\n",
        "            d1 = d1.iloc[:,0:35000]\n",
        "            d1_np = pd.DataFrame.to_numpy(d1)\n",
        "            d1_np = np.squeeze(d1_np, axis = 0)\n",
        "            path_stft = '/content/gdrive/MyDrive/spectrogram_plt/trainset/'\n",
        "        else:\n",
        "            d1 = pd.read_excel(path + j, header=None, index_col=None)\n",
        "            d1 = pd.DataFrame(data=d1).transpose()\n",
        "            d1 = d1.reset_index(drop = True)\n",
        "            d1 = d1.iloc[:,0:35000]\n",
        "            d1_np = pd.DataFrame.to_numpy(d1)\n",
        "            path_stft = '/content/gdrive/MyDrive/spectrogram_plt/testset/'\n",
        "\n",
        "###########################################Band_Block_Filter##########################################################\n",
        "        data = d1_np\n",
        "        fs = 3.125e4\n",
        "        lowcut = 59\n",
        "        highcut = 61\n",
        "        order = 2\n",
        "        signal_filtered = butter_bandstop_filter(data, lowcut, highcut, fs, order)\n",
        "\n",
        "###########################################Shor_Time_Fourier_Transformation###########################################\n",
        "        x = signal_filtered\n",
        "        fs = 3.125e4\n",
        "        windowsize = 2**12\n",
        "        window = np.hanning(windowsize)\n",
        "        nfft = windowsize\n",
        "        noverlap = 4e3\n",
        "\n",
        "        f, t, Sxx = spectrogram(x, fs, window = window, noverlap = noverlap, nfft = nfft, scaling = 'density', mode = 'magnitude')\n",
        "        Sxx = np.squeeze(Sxx)\n",
        "\n",
        "        plt.figure(figsize = (6, 6))\n",
        "        plt.ylim(0,1000)\n",
        "        plt.pcolormesh(t, f, Sxx, cmap = 'jet', vmin = 0)\n",
        "        plt.ylabel('Frequency [Hz]', fontsize = 15)\n",
        "        plt.xlabel('Time [sec]', fontsize = 15)\n",
        "        plt.axis('off')\n",
        "        plt.savefig(path_stft + i + '/' + j[0:-5] + '.png', bbox_inches = 'tight', pad_inches = 0, dpi = 300)\n",
        "        plt.close()"
      ]
    },
    {
      "attachments": {},
      "cell_type": "markdown",
      "metadata": {
        "id": "EXiv8lDO1u_z"
      },
      "source": [
        "# Vocal sensor dataset"
      ]
    },
    {
      "cell_type": "code",
      "execution_count": null,
      "metadata": {
        "id": "qExwntozBZwT"
      },
      "outputs": [],
      "source": [
        "from PIL import Image\n",
        "%matplotlib inline\n",
        "import matplotlib\n",
        "import matplotlib.pyplot as plt\n",
        "\n",
        "import torch\n",
        "import torch.nn as nn\n",
        "import torch.nn.functional as F\n",
        "from torch.autograd import Variable\n",
        "from torch.utils.data import Dataset, DataLoader\n",
        "\n",
        "import numpy as np\n",
        "import torchvision\n",
        "from torchvision import transforms\n",
        "\n",
        "trans = transforms.Compose([transforms.Resize((100,100)),\n",
        "                            transforms.ToTensor(),\n",
        "                            transforms.Normalize((0.5,0.5,0.5), (0.5,0.5,0.5))])\n",
        "\n",
        "trainset = torchvision.datasets.ImageFolder(root='/content/gdrive/MyDrive/spectrogram_plt/trainset',\n",
        "                                            transform=trans)\n",
        "testset = torchvision.datasets.ImageFolder(root='/content/gdrive/MyDrive/spectrogram_plt/testset',\n",
        "                                           transform=trans)\n",
        "train_dataloader_v = DataLoader(trainset, batch_size=1, shuffle=True, num_workers=2)\n",
        "test_dataloader_v = DataLoader(testset, batch_size=1, shuffle=False, num_workers=2)\n",
        "\n",
        "classes = trainset.classes"
      ]
    },
    {
      "cell_type": "code",
      "execution_count": null,
      "metadata": {
        "id": "GeJWUzviBadM"
      },
      "outputs": [],
      "source": [
        "def imshow(img):\n",
        "    img = img / 2 + 0.5 #unnormalize\n",
        "    np_img = img.numpy()\n",
        "    #plt.imshow(np_img)\n",
        "    plt.imshow(np.transpose(np_img, (1,2,0)))\n",
        "\n",
        "    print(np_img.shape)\n",
        "    print((np.transpose(np_img, (1,2,0))).shape)"
      ]
    },
    {
      "cell_type": "code",
      "execution_count": null,
      "metadata": {
        "id": "NvqDho5DCR-p"
      },
      "outputs": [],
      "source": [
        "dataiter = iter(train_dataloader)\n",
        "images, labels = dataiter.next()"
      ]
    },
    {
      "cell_type": "code",
      "execution_count": null,
      "metadata": {
        "colab": {
          "base_uri": "https://localhost:8080/",
          "height": 376
        },
        "id": "5e0T0hJfCUGt",
        "outputId": "a2718c02-5352-4a22-fc1e-9910a0919ca0"
      },
      "outputs": [
        {
          "name": "stdout",
          "output_type": "stream",
          "text": [
            "torch.Size([1, 3, 100, 100])\n",
            "(3, 100, 100)\n",
            "(100, 100, 3)\n",
            "torch.Size([1, 3, 100, 100])\n",
            "torch.Size([3, 100, 100])\n",
            "    A \n"
          ]
        },
        {
          "data": {
            "image/png": "[encoded data removed]",
            "text/plain": [
              "<Figure size 432x288 with 1 Axes>"
            ]
          },
          "metadata": {
            "needs_background": "light",
            "tags": []
          },
          "output_type": "display_data"
        }
      ],
      "source": [
        "print(images.shape)\n",
        "imshow(torchvision.utils.make_grid(images, nrow=4))\n",
        "print(images.shape)\n",
        "print( (torchvision.utils.make_grid(images)).shape )\n",
        "print(''.join('%5s ' %classes[labels[j]] for j in range(1)))"
      ]
    },
    {
      "attachments": {},
      "cell_type": "markdown",
      "metadata": {
        "id": "qIJFFik65k8E"
      },
      "source": [
        "# Facial Sensor 1D CNN Network"
      ]
    },
    {
      "cell_type": "code",
      "execution_count": null,
      "metadata": {
        "colab": {
          "base_uri": "https://localhost:8080/"
        },
        "id": "mqscNn-l5jyz",
        "outputId": "172be700-cc2b-4b4b-f839-6d37c057440c"
      },
      "outputs": [
        {
          "name": "stdout",
          "output_type": "stream",
          "text": [
            "다음 기기로 학습합니다: cpu\n"
          ]
        }
      ],
      "source": [
        "################### 1d cnn model #######################################\n",
        "import torch\n",
        "import torch.nn as nn\n",
        "import torch.nn.functional as F\n",
        "from torch.utils.data import TensorDataset\n",
        "from torch.utils.data import DataLoader\n",
        "\n",
        "device = 'cuda' if torch.cuda.is_available() else 'cpu'\n",
        "print(\"train with the following device\", device)\n",
        "\n",
        "# fix random seed (for reproducibility)\n",
        "torch.manual_seed(777)\n",
        "\n",
        "# fix randome seed if GPU is available\n",
        "if device == 'cuda':\n",
        "    torch.cuda.manual_seed_all(777)\n",
        "\n",
        "learning_rate = 0.001\n",
        "training_epochs = 999\n",
        "\n",
        "class CNN1d(nn.Module):\n",
        "\n",
        "    def __init__(self):\n",
        "        super(CNN1d, self).__init__()\n",
        "        # 1st layer (CNN)\n",
        "        self.layer1 = nn.Sequential(\n",
        "            nn.Conv1d(5, 16, 1),\n",
        "            nn.BatchNorm1d(16),\n",
        "            nn.Tanh())\n",
        "\n",
        "        # 2nd layer (CNN)\n",
        "        self.layer2 = nn.Sequential(\n",
        "            nn.Conv1d(16, 32, 1),\n",
        "            nn.BatchNorm1d(32),\n",
        "            nn.Tanh())\n",
        "\n",
        "        # 3rd layer (CNN)\n",
        "        self.layer3 = nn.Sequential(\n",
        "            nn.Conv1d(32, 64, 1),\n",
        "            nn.BatchNorm1d(64),\n",
        "            nn.Tanh())\n",
        "\n",
        "        # 4th layer (GAP)\n",
        "        self.layer4 = nn.Sequential(\n",
        "            nn.AdaptiveAvgPool1d(1),\n",
        "            nn.Tanh())\n",
        "\n",
        "        # 5th layer (FC)\n",
        "        self.layer5 = nn.Sequential(\n",
        "            nn.Linear(64, 5, bias=True),\n",
        "            nn.Tanh())\n",
        "\n",
        "    def forward(self, x):\n",
        "        out = self.layer1(x)\n",
        "        out = self.layer2(out)\n",
        "        out = self.layer3(out)\n",
        "        out = self.layer4(out)\n",
        "        out = out.view(out.shape[0], -1)\n",
        "        out = self.layer5(out)\n",
        "        return out\n",
        "\n",
        "# define CNN model\n",
        "model_facial = CNN1d().to(device)"
      ]
    },
    {
      "attachments": {},
      "cell_type": "markdown",
      "metadata": {
        "id": "Mm6FAiwU2spy"
      },
      "source": [
        "# Vocal Sensor 2D CNN Network"
      ]
    },
    {
      "cell_type": "code",
      "execution_count": null,
      "metadata": {
        "colab": {
          "base_uri": "https://localhost:8080/"
        },
        "id": "MI2b2Zq4Kx9b",
        "outputId": "1fe18c17-0183-4370-d62f-b59b8bcea6b8"
      },
      "outputs": [
        {
          "name": "stdout",
          "output_type": "stream",
          "text": [
            "다음 기기로 학습합니다: cpu\n"
          ]
        }
      ],
      "source": [
        "################### 2d cnn model #######################################\n",
        "import torch\n",
        "import torch.nn as nn\n",
        "import torch.nn.functional as F\n",
        "import copy\n",
        "from torch.utils.data import TensorDataset\n",
        "from torch.utils.data import DataLoader\n",
        "\n",
        "device = 'cuda' if torch.cuda.is_available() else 'cpu'\n",
        "print(\"train with the following device\", device)\n",
        "\n",
        "# fix random seed (for reproducibility)\n",
        "torch.manual_seed(777)\n",
        "\n",
        "# fix randome seed if GPU is available\n",
        "if device == 'cuda':\n",
        "    torch.cuda.manual_seed_all(777)\n",
        "\n",
        "learning_rate = 0.001\n",
        "training_epochs = 199\n",
        "\n",
        "class CNN2d(nn.Module):\n",
        "\n",
        "    def __init__(self):\n",
        "        super(CNN2d, self).__init__()\n",
        "        # 1st layer (CNN)\n",
        "        self.layer1 = nn.Sequential(\n",
        "            nn.Conv2d(3, 32, 3),\n",
        "            nn.BatchNorm2d(32),\n",
        "            nn.Tanh(),\n",
        "            nn.MaxPool2d(2))\n",
        "\n",
        "        # 2nd layer (CNN)\n",
        "        self.layer2 = nn.Sequential(\n",
        "            nn.Conv2d(32, 64, 3),\n",
        "            nn.BatchNorm2d(64),\n",
        "            nn.Tanh(),\n",
        "            nn.MaxPool2d(2))\n",
        "\n",
        "        # 3rd layer (CNN)\n",
        "        self.layer3 = nn.Sequential(\n",
        "            nn.Conv2d(64, 128, 3),\n",
        "            nn.BatchNorm2d(128),\n",
        "            nn.Tanh(),\n",
        "            nn.MaxPool2d(2))\n",
        "\n",
        "        # 4th layer (GAP)\n",
        "        self.layer4 = nn.Sequential(\n",
        "            nn.AdaptiveAvgPool2d(1),\n",
        "            nn.Tanh())\n",
        "\n",
        "        # 5th layer (FC)\n",
        "        self.layer5 = nn.Sequential(\n",
        "            nn.Linear(128, 5, bias=True),\n",
        "            nn.Softmax(dim=1))\n",
        "\n",
        "    def forward(self, x):\n",
        "        out = self.layer1(x)\n",
        "        out = self.layer2(out)\n",
        "        out = self.layer3(out)\n",
        "        out = self.layer4(out)\n",
        "        out = out.view(out.shape[0], -1)\n",
        "        out = self.layer5(out)\n",
        "        return out\n",
        "\n",
        "# define CNN model\n",
        "model_vocal = CNN2d().to(device)"
      ]
    },
    {
      "cell_type": "markdown",
      "metadata": {
        "id": "9T5Au-s1t5Qj"
      },
      "source": [
        "#Pre-Training"
      ]
    },
    {
      "cell_type": "markdown",
      "metadata": {
        "id": "22meNjaR1gv7"
      },
      "source": [
        "## Facial sensor_training"
      ]
    },
    {
      "cell_type": "code",
      "execution_count": null,
      "metadata": {
        "id": "C2kgNSJ_xOIZ"
      },
      "outputs": [],
      "source": [
        "#########facial sensor_training################\n",
        "\n",
        "# define cost function and optimizer\n",
        "criterion = nn.CrossEntropyLoss().to(device) # softmax is included in the cost function\n",
        "optimizer = torch.optim.Adam(model_facial.parameters(), lr=learning_rate)\n",
        "\n",
        "total_batch = len(train_dataloader_f)\n",
        "print('total number of the batches : {}'.format(total_batch))\n",
        "\n",
        "for epoch in range(training_epochs + 1):\n",
        "    avg_cost = 0\n",
        "\n",
        "    for X_train, Y_train in train_dataloader_f:\n",
        "        X_train = X_train.to(device)\n",
        "        Y_train = Y_train.to(device)\n",
        "\n",
        "        optimizer.zero_grad()\n",
        "        hypothesis = model(X_train)\n",
        "        cost = criterion(hypothesis, Y_train)\n",
        "        cost.backward()\n",
        "        optimizer.step()\n",
        "\n",
        "        avg_cost += cost / total_batch\n",
        "\n",
        "    print('[Epoch: {:>4}] cost = {:>.9}'.format(epoch + 1, avg_cost))\n",
        "\n",
        "################################ Testing (trainset) #######################################\n",
        "    correct_train = 0\n",
        "    total_train = 0\n",
        "\n",
        "    with torch.no_grad():\n",
        "        for data in train_dataloader_f:\n",
        "            images, labels = data\n",
        "            images, labels = images.to(device), labels.to(device)\n",
        "            outputs = model_vocal(images)\n",
        "            _, predicted = torch.max(outputs.data, 1)\n",
        "            total_train += labels.size(0)\n",
        "            correct_train += (predicted == labels).sum().item()\n",
        "\n",
        "    ################################ Testing (testset) #######################################\n",
        "    correct_test = 0\n",
        "    total_test = 0\n",
        "\n",
        "    with torch.no_grad():\n",
        "        for data in test_dataloader_f:\n",
        "            images, labels = data\n",
        "            images, labels = images.to(device), labels.to(device)\n",
        "            outputs = model_vocal(images)\n",
        "            _, predicted = torch.max(outputs.data, 1)\n",
        "            total_test += labels.size(0)\n",
        "            correct_test += (predicted == labels).sum().item()\n",
        "\n",
        "        if correct_test / total_test > best_test_acc:\n",
        "            best_epoch = epoch\n",
        "            best_cost = avg_cost.item()\n",
        "            best_train_acc = correct_train / total_train\n",
        "            best_test_acc = correct_test / total_test\n",
        "            best_model_wts = copy.deepcopy(model_vocal.state_dict())\n",
        "\n",
        "    print('[Epoch: {:>4}] cost = {:.4f}'.format(epoch + 1, avg_cost),\n",
        "          'trainset acc.: %{:.2f} %%' % (100 * correct_train / total_train),\n",
        "          'testset acc.: %{:.2f} %%' % (100 * correct_test / total_test))\n",
        "\n",
        "print('best condition : ', 'epoch: {:>4} cost = {:.4f}'.format(best_epoch + 1, best_cost),\n",
        "      'trainset acc.: %{:.2f} %%' % (100 * best_test_acc),\n",
        "      'trainset acc.: %{:.2f} %%' % (100 * best_test_acc))\n",
        "\n",
        "############## store the model #################\n",
        "PATH = F\" \" #수정\n",
        "torch.save(best_model_wts, PATH)"
      ]
    },
    {
      "attachments": {},
      "cell_type": "markdown",
      "metadata": {
        "id": "4ucuZP1F1uRC"
      },
      "source": [
        "## Vocal sensor_training"
      ]
    },
    {
      "cell_type": "code",
      "execution_count": null,
      "metadata": {
        "id": "IiK_Hx_oK3jC"
      },
      "outputs": [],
      "source": [
        "#########vocal sensor_training################\n",
        "\n",
        "# defien cost function and optimizer\n",
        "criterion = nn.CrossEntropyLoss().to(device) # softmax is included in the cost function\n",
        "optimizer = torch.optim.Adam(model_vocal.parameters(), lr=learning_rate)\n",
        "\n",
        "total_batch = len(train_dataloader_v)\n",
        "print('total number of the batches : {}'.format(total_batch))\n",
        "\n",
        "best_model_wts = copy.deepcopy(model_vocal.state_dict())\n",
        "best_epoch = 0\n",
        "best_cost = 0.0\n",
        "best_train_acc = 0.0\n",
        "best_test_acc = 0.0\n",
        "\n",
        "for epoch in range(training_epochs + 1):\n",
        "    avg_cost = 0\n",
        "\n",
        "    for X_train, Y_train in train_dataloader_v:\n",
        "        X_train = X_train.to(device)\n",
        "        Y_train = Y_train.to(device)\n",
        "\n",
        "        optimizer.zero_grad()\n",
        "        hypothesis = model_vocal(X_train)\n",
        "        #print(hypothesis)\n",
        "        cost = criterion(hypothesis, Y_train)\n",
        "        cost.backward()\n",
        "        optimizer.step()\n",
        "\n",
        "        avg_cost += cost / total_batch\n",
        "    print('[Epoch: {:>4}] cost = {:>.9}'.format(epoch + 1, avg_cost))\n",
        "\n",
        "    ################################ Testing (trainset) #######################################\n",
        "    correct_train = 0\n",
        "    total_train = 0\n",
        "\n",
        "    with torch.no_grad():\n",
        "        for data in train_dataloader_v:\n",
        "            images, labels = data\n",
        "            images, labels = images.to(device), labels.to(device)\n",
        "            outputs = model_vocal(images)\n",
        "            _, predicted = torch.max(outputs.data, 1)\n",
        "            total_train += labels.size(0)\n",
        "            correct_train += (predicted == labels).sum().item()\n",
        "\n",
        "    ################################ Testing (testset) #######################################\n",
        "    correct_test = 0\n",
        "    total_test = 0\n",
        "\n",
        "    with torch.no_grad():\n",
        "        for data in test_dataloader_v:\n",
        "            images, labels = data\n",
        "            images, labels = images.to(device), labels.to(device)\n",
        "            outputs = model_vocal(images)\n",
        "            _, predicted = torch.max(outputs.data, 1)\n",
        "            total_test += labels.size(0)\n",
        "            correct_test += (predicted == labels).sum().item()\n",
        "\n",
        "        if correct_test / total_test > best_test_acc:\n",
        "            best_epoch = epoch\n",
        "            best_cost = avg_cost.item()\n",
        "            best_train_acc = correct_train / total_train\n",
        "            best_test_acc = correct_test / total_test\n",
        "            best_model_wts = copy.deepcopy(model_vocal.state_dict())\n",
        "\n",
        "    print('[Epoch: {:>4}] cost = {:.4f}'.format(epoch + 1, avg_cost),\n",
        "          'trainset acc.: %{:.2f} %%' % (100 * correct_train / total_train),\n",
        "          'testset acc.: %{:.2f} %%' % (100 * correct_test / total_test))\n",
        "\n",
        "print('best condition : ', 'epoch: {:>4} cost = {:.4f}'.format(best_epoch + 1, best_cost),\n",
        "      'trainset acc.: %{:.2f} %%' % (100 * best_test_acc),\n",
        "      'trainset acc.: %{:.2f} %%' % (100 * best_test_acc))\n",
        "\n",
        "############## store the model #################\n",
        "PATH = F\"\" #수정\n",
        "torch.save(best_model_wts, PATH)"
      ]
    }
  ],
  "metadata": {
    "accelerator": "GPU",
    "colab": {
      "collapsed_sections": [
        "FJGxGi8UqO2o",
        "44-_hqLh1TgW",
        "VXNb6vP_1bj_",
        "EXiv8lDO1u_z",
        "qIJFFik65k8E",
        "Mm6FAiwU2spy",
        "22meNjaR1gv7",
        "4ucuZP1F1uRC",
        "uGLzQrCDuBRF"
      ],
      "provenance": []
    },
    "kernelspec": {
      "display_name": "Python 3",
      "name": "python3"
    },
    "language_info": {
      "name": "python"
    }
  },
  "nbformat": 4,
  "nbformat_minor": 0
}
